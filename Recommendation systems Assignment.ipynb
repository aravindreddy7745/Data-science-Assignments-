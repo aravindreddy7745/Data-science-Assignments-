#====================================================================================
# Load the data
import warnings
warnings.filterwarnings("ignore")
import pandas as pd
df = pd.read_csv("book.csv", encoding='latin1')
df.info()
df.head()
df.shape

#====================================================================================
# TF-IDF Vectorization for book titles
from sklearn.feature_extraction.text import TfidfVectorizer
titles = df['Book.Title'].fillna('')
vectorizer = TfidfVectorizer(stop_words='english')
title_matrix = vectorizer.fit_transform(titles)

# Reduce dimensionality using PCA
from sklearn.decomposition import PCA
pca = PCA(n_components=2)
tfidf_pca = pca.fit_transform(title_matrix.toarray())

# Create a DataFrame for the reduced TF-IDF vectors
tfidf_df = pd.DataFrame(tfidf_pca, columns=['PCA1', 'PCA2'])

# Visualize the TF-IDF vectors in 2D
import matplotlib.pyplot as plt
plt.figure(figsize=(10, 8))
plt.scatter(tfidf_df['PCA1'], tfidf_df['PCA2'], alpha=0.5)
plt.title('2D Visualization of TF-IDF Vectors for Book Titles')
plt.xlabel('PCA1')
plt.ylabel('PCA2')

#===================================================================================
# Cosine Similarity Matrix
from sklearn.metrics.pairwise import cosine_similarity
cosine_sim_matrix = cosine_similarity(title_matrix, title_matrix)

def get_book_recommendations(book_title, cosine_sim_matrix, book_df):
    """
    Get book recommendations based on cosine similarity of book titles.

    Parameters:
    - book_title: Title of the book for which recommendations are needed.
    - cosine_sim_matrix: Cosine similarity matrix between book titles.
    - book_df: DataFrame containing book information.

    Returns:
    - recommended_books: Series of recommended book titles.
    """
    book_index = book_df[book_df['Book.Title'] == book_title].index[0]
    sim_scores = list(enumerate(cosine_sim_matrix[book_index]))
    sim_scores = sorted(sim_scores, key=lambda x: x[1], reverse=True)
    sim_scores = sim_scores[1:4]  # Get the top 3 similar books (excluding itself)

    book_indices = [i[0] for i in sim_scores]
    recommended_books = book_df['Book.Title'].iloc[book_indices]

    return recommended_books
#==================================================================================
# Distribution of ratings
ratings_distribution = df['Book.Rating'].value_counts().sort_index()
import matplotlib.pyplot as plt
plt.bar(ratings_distribution.index, ratings_distribution.values, color='skyblue')
plt.xlabel('Book Rating')
plt.ylabel('Number of Ratings')
plt.title('Distribution of Book Ratings')
plt.show()

#================================================================================
# Example: Get book recommendations for 'Cannibal In Manhattan'
book_title = 'Cannibal In Manhattan'
recommendations = get_book_recommendations(book_title, cosine_sim_matrix, df)

print(f"Recommendations for '{book_title}':")
print(recommendations)

# The TF-IDF vectorization and PCA are used to capture the essence of book titles in a reduced 2D space, allowing for visualization and potential clustering of similar titles.
# The cosine similarity matrix is employed to find books similar to a given title, providing a basic recommendation system.
# The distribution of ratings gives an overview of how ratings are distributed among the books
#================================================================================